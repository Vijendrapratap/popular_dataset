{
 "cells": [
  {
   "cell_type": "code",
   "execution_count": null,
   "id": "a00dac05-e9de-4cf2-a8c1-c961a3a3d1f8",
   "metadata": {},
   "outputs": [],
   "source": []
  },
  {
   "cell_type": "code",
   "execution_count": null,
   "id": "f2724a89-77db-4d3a-ab65-7aa28bd980e9",
   "metadata": {},
   "outputs": [],
   "source": []
  },
  {
   "cell_type": "markdown",
   "id": "e9a0d1cd-cfd4-4f2f-9b7e-6e9090c23818",
   "metadata": {},
   "source": [
    "## Data Preparation"
   ]
  },
  {
   "cell_type": "code",
   "execution_count": 1,
   "id": "a4b8e565-eb0e-42f2-9358-6f9d6c30d0df",
   "metadata": {},
   "outputs": [],
   "source": [
    "import pandas as pd\n",
    "import numpy as np\n",
    "import matplotlib.pyplot as plt"
   ]
  },
  {
   "cell_type": "code",
   "execution_count": 2,
   "id": "6cc941cd-e45c-4873-9d6e-5f179122ce8d",
   "metadata": {},
   "outputs": [
    {
     "data": {
      "text/html": [
       "<div>\n",
       "<style scoped>\n",
       "    .dataframe tbody tr th:only-of-type {\n",
       "        vertical-align: middle;\n",
       "    }\n",
       "\n",
       "    .dataframe tbody tr th {\n",
       "        vertical-align: top;\n",
       "    }\n",
       "\n",
       "    .dataframe thead th {\n",
       "        text-align: right;\n",
       "    }\n",
       "</style>\n",
       "<table border=\"1\" class=\"dataframe\">\n",
       "  <thead>\n",
       "    <tr style=\"text-align: right;\">\n",
       "      <th></th>\n",
       "      <th>PatientId</th>\n",
       "      <th>AppointmentID</th>\n",
       "      <th>Gender</th>\n",
       "      <th>ScheduledDay</th>\n",
       "      <th>AppointmentDay</th>\n",
       "      <th>Age</th>\n",
       "      <th>Neighbourhood</th>\n",
       "      <th>Scholarship</th>\n",
       "      <th>Hipertension</th>\n",
       "      <th>Diabetes</th>\n",
       "      <th>Alcoholism</th>\n",
       "      <th>Handcap</th>\n",
       "      <th>SMS_received</th>\n",
       "      <th>No-show</th>\n",
       "    </tr>\n",
       "  </thead>\n",
       "  <tbody>\n",
       "    <tr>\n",
       "      <th>13034</th>\n",
       "      <td>3.269136e+11</td>\n",
       "      <td>5668515</td>\n",
       "      <td>F</td>\n",
       "      <td>2016-05-06T09:14:11Z</td>\n",
       "      <td>2016-05-06T00:00:00Z</td>\n",
       "      <td>45</td>\n",
       "      <td>ILHA DE SANTA MARIA</td>\n",
       "      <td>0</td>\n",
       "      <td>0</td>\n",
       "      <td>0</td>\n",
       "      <td>0</td>\n",
       "      <td>0</td>\n",
       "      <td>0</td>\n",
       "      <td>No</td>\n",
       "    </tr>\n",
       "    <tr>\n",
       "      <th>66207</th>\n",
       "      <td>6.816666e+11</td>\n",
       "      <td>5582388</td>\n",
       "      <td>F</td>\n",
       "      <td>2016-04-14T09:20:20Z</td>\n",
       "      <td>2016-05-02T00:00:00Z</td>\n",
       "      <td>16</td>\n",
       "      <td>JARDIM CAMBURI</td>\n",
       "      <td>0</td>\n",
       "      <td>0</td>\n",
       "      <td>0</td>\n",
       "      <td>0</td>\n",
       "      <td>0</td>\n",
       "      <td>1</td>\n",
       "      <td>Yes</td>\n",
       "    </tr>\n",
       "    <tr>\n",
       "      <th>70629</th>\n",
       "      <td>3.957823e+12</td>\n",
       "      <td>5604301</td>\n",
       "      <td>M</td>\n",
       "      <td>2016-04-20T07:51:24Z</td>\n",
       "      <td>2016-05-04T00:00:00Z</td>\n",
       "      <td>76</td>\n",
       "      <td>PRAIA DO CANTO</td>\n",
       "      <td>0</td>\n",
       "      <td>1</td>\n",
       "      <td>0</td>\n",
       "      <td>0</td>\n",
       "      <td>0</td>\n",
       "      <td>1</td>\n",
       "      <td>Yes</td>\n",
       "    </tr>\n",
       "    <tr>\n",
       "      <th>43991</th>\n",
       "      <td>8.675398e+12</td>\n",
       "      <td>5684372</td>\n",
       "      <td>M</td>\n",
       "      <td>2016-05-11T08:32:17Z</td>\n",
       "      <td>2016-05-11T00:00:00Z</td>\n",
       "      <td>0</td>\n",
       "      <td>GURIGICA</td>\n",
       "      <td>0</td>\n",
       "      <td>0</td>\n",
       "      <td>0</td>\n",
       "      <td>0</td>\n",
       "      <td>0</td>\n",
       "      <td>0</td>\n",
       "      <td>No</td>\n",
       "    </tr>\n",
       "    <tr>\n",
       "      <th>41773</th>\n",
       "      <td>8.718894e+14</td>\n",
       "      <td>5668378</td>\n",
       "      <td>F</td>\n",
       "      <td>2016-05-06T08:57:10Z</td>\n",
       "      <td>2016-05-11T00:00:00Z</td>\n",
       "      <td>55</td>\n",
       "      <td>SANTO ANTÔNIO</td>\n",
       "      <td>0</td>\n",
       "      <td>0</td>\n",
       "      <td>0</td>\n",
       "      <td>0</td>\n",
       "      <td>0</td>\n",
       "      <td>1</td>\n",
       "      <td>Yes</td>\n",
       "    </tr>\n",
       "    <tr>\n",
       "      <th>20849</th>\n",
       "      <td>1.599695e+13</td>\n",
       "      <td>5669282</td>\n",
       "      <td>F</td>\n",
       "      <td>2016-05-06T10:37:59Z</td>\n",
       "      <td>2016-05-10T00:00:00Z</td>\n",
       "      <td>50</td>\n",
       "      <td>JABOUR</td>\n",
       "      <td>0</td>\n",
       "      <td>0</td>\n",
       "      <td>0</td>\n",
       "      <td>0</td>\n",
       "      <td>0</td>\n",
       "      <td>1</td>\n",
       "      <td>No</td>\n",
       "    </tr>\n",
       "    <tr>\n",
       "      <th>19670</th>\n",
       "      <td>7.821453e+14</td>\n",
       "      <td>5741794</td>\n",
       "      <td>M</td>\n",
       "      <td>2016-05-30T07:26:06Z</td>\n",
       "      <td>2016-05-30T00:00:00Z</td>\n",
       "      <td>46</td>\n",
       "      <td>BELA VISTA</td>\n",
       "      <td>1</td>\n",
       "      <td>1</td>\n",
       "      <td>0</td>\n",
       "      <td>1</td>\n",
       "      <td>0</td>\n",
       "      <td>0</td>\n",
       "      <td>No</td>\n",
       "    </tr>\n",
       "    <tr>\n",
       "      <th>35553</th>\n",
       "      <td>8.549233e+13</td>\n",
       "      <td>5635469</td>\n",
       "      <td>F</td>\n",
       "      <td>2016-04-28T13:32:26Z</td>\n",
       "      <td>2016-05-19T00:00:00Z</td>\n",
       "      <td>41</td>\n",
       "      <td>JESUS DE NAZARETH</td>\n",
       "      <td>0</td>\n",
       "      <td>0</td>\n",
       "      <td>0</td>\n",
       "      <td>0</td>\n",
       "      <td>0</td>\n",
       "      <td>0</td>\n",
       "      <td>Yes</td>\n",
       "    </tr>\n",
       "    <tr>\n",
       "      <th>9152</th>\n",
       "      <td>7.957837e+12</td>\n",
       "      <td>5723656</td>\n",
       "      <td>F</td>\n",
       "      <td>2016-05-20T08:28:38Z</td>\n",
       "      <td>2016-05-20T00:00:00Z</td>\n",
       "      <td>84</td>\n",
       "      <td>BELA VISTA</td>\n",
       "      <td>0</td>\n",
       "      <td>1</td>\n",
       "      <td>0</td>\n",
       "      <td>0</td>\n",
       "      <td>0</td>\n",
       "      <td>0</td>\n",
       "      <td>No</td>\n",
       "    </tr>\n",
       "    <tr>\n",
       "      <th>58977</th>\n",
       "      <td>7.113874e+13</td>\n",
       "      <td>5675650</td>\n",
       "      <td>M</td>\n",
       "      <td>2016-05-09T14:07:21Z</td>\n",
       "      <td>2016-05-10T00:00:00Z</td>\n",
       "      <td>56</td>\n",
       "      <td>CENTRO</td>\n",
       "      <td>0</td>\n",
       "      <td>1</td>\n",
       "      <td>0</td>\n",
       "      <td>0</td>\n",
       "      <td>0</td>\n",
       "      <td>0</td>\n",
       "      <td>No</td>\n",
       "    </tr>\n",
       "  </tbody>\n",
       "</table>\n",
       "</div>"
      ],
      "text/plain": [
       "          PatientId  AppointmentID Gender          ScheduledDay  \\\n",
       "13034  3.269136e+11        5668515      F  2016-05-06T09:14:11Z   \n",
       "66207  6.816666e+11        5582388      F  2016-04-14T09:20:20Z   \n",
       "70629  3.957823e+12        5604301      M  2016-04-20T07:51:24Z   \n",
       "43991  8.675398e+12        5684372      M  2016-05-11T08:32:17Z   \n",
       "41773  8.718894e+14        5668378      F  2016-05-06T08:57:10Z   \n",
       "20849  1.599695e+13        5669282      F  2016-05-06T10:37:59Z   \n",
       "19670  7.821453e+14        5741794      M  2016-05-30T07:26:06Z   \n",
       "35553  8.549233e+13        5635469      F  2016-04-28T13:32:26Z   \n",
       "9152   7.957837e+12        5723656      F  2016-05-20T08:28:38Z   \n",
       "58977  7.113874e+13        5675650      M  2016-05-09T14:07:21Z   \n",
       "\n",
       "             AppointmentDay  Age        Neighbourhood  Scholarship  \\\n",
       "13034  2016-05-06T00:00:00Z   45  ILHA DE SANTA MARIA            0   \n",
       "66207  2016-05-02T00:00:00Z   16       JARDIM CAMBURI            0   \n",
       "70629  2016-05-04T00:00:00Z   76       PRAIA DO CANTO            0   \n",
       "43991  2016-05-11T00:00:00Z    0             GURIGICA            0   \n",
       "41773  2016-05-11T00:00:00Z   55        SANTO ANTÔNIO            0   \n",
       "20849  2016-05-10T00:00:00Z   50               JABOUR            0   \n",
       "19670  2016-05-30T00:00:00Z   46           BELA VISTA            1   \n",
       "35553  2016-05-19T00:00:00Z   41    JESUS DE NAZARETH            0   \n",
       "9152   2016-05-20T00:00:00Z   84           BELA VISTA            0   \n",
       "58977  2016-05-10T00:00:00Z   56               CENTRO            0   \n",
       "\n",
       "       Hipertension  Diabetes  Alcoholism  Handcap  SMS_received No-show  \n",
       "13034             0         0           0        0             0      No  \n",
       "66207             0         0           0        0             1     Yes  \n",
       "70629             1         0           0        0             1     Yes  \n",
       "43991             0         0           0        0             0      No  \n",
       "41773             0         0           0        0             1     Yes  \n",
       "20849             0         0           0        0             1      No  \n",
       "19670             1         0           1        0             0      No  \n",
       "35553             0         0           0        0             0     Yes  \n",
       "9152              1         0           0        0             0      No  \n",
       "58977             1         0           0        0             0      No  "
      ]
     },
     "execution_count": 2,
     "metadata": {},
     "output_type": "execute_result"
    }
   ],
   "source": [
    "df = pd.read_csv('medical_appointment_noshow.csv')\n",
    "df.sample(10)"
   ]
  },
  {
   "cell_type": "code",
   "execution_count": 7,
   "id": "1457cfa6-64cf-4a65-a395-378d5929418d",
   "metadata": {},
   "outputs": [
    {
     "data": {
      "text/plain": [
       "No     88208\n",
       "Yes    22319\n",
       "Name: No-show, dtype: int64"
      ]
     },
     "execution_count": 7,
     "metadata": {},
     "output_type": "execute_result"
    }
   ],
   "source": [
    "df['No-show'].value_counts()"
   ]
  },
  {
   "cell_type": "code",
   "execution_count": 12,
   "id": "fbae271c-4962-46af-a061-ea95eee9aac3",
   "metadata": {},
   "outputs": [
    {
     "data": {
      "text/html": [
       "<div>\n",
       "<style scoped>\n",
       "    .dataframe tbody tr th:only-of-type {\n",
       "        vertical-align: middle;\n",
       "    }\n",
       "\n",
       "    .dataframe tbody tr th {\n",
       "        vertical-align: top;\n",
       "    }\n",
       "\n",
       "    .dataframe thead th {\n",
       "        text-align: right;\n",
       "    }\n",
       "</style>\n",
       "<table border=\"1\" class=\"dataframe\">\n",
       "  <thead>\n",
       "    <tr style=\"text-align: right;\">\n",
       "      <th></th>\n",
       "      <th>PatientId</th>\n",
       "      <th>AppointmentID</th>\n",
       "      <th>Gender</th>\n",
       "      <th>ScheduledDay</th>\n",
       "      <th>AppointmentDay</th>\n",
       "      <th>Age</th>\n",
       "      <th>Neighbourhood</th>\n",
       "      <th>Scholarship</th>\n",
       "      <th>Hipertension</th>\n",
       "      <th>Diabetes</th>\n",
       "      <th>Alcoholism</th>\n",
       "      <th>Handcap</th>\n",
       "      <th>SMS_received</th>\n",
       "      <th>No-show</th>\n",
       "      <th>OUTPUT_LABEL</th>\n",
       "    </tr>\n",
       "  </thead>\n",
       "  <tbody>\n",
       "    <tr>\n",
       "      <th>58518</th>\n",
       "      <td>3.429756e+11</td>\n",
       "      <td>5606945</td>\n",
       "      <td>M</td>\n",
       "      <td>2016-04-20T10:53:51Z</td>\n",
       "      <td>2016-05-19T00:00:00Z</td>\n",
       "      <td>17</td>\n",
       "      <td>SÃO CRISTÓVÃO</td>\n",
       "      <td>0</td>\n",
       "      <td>0</td>\n",
       "      <td>0</td>\n",
       "      <td>0</td>\n",
       "      <td>0</td>\n",
       "      <td>0</td>\n",
       "      <td>Yes</td>\n",
       "      <td>1</td>\n",
       "    </tr>\n",
       "    <tr>\n",
       "      <th>71031</th>\n",
       "      <td>2.654993e+12</td>\n",
       "      <td>5412231</td>\n",
       "      <td>F</td>\n",
       "      <td>2016-03-01T08:25:52Z</td>\n",
       "      <td>2016-05-06T00:00:00Z</td>\n",
       "      <td>18</td>\n",
       "      <td>CENTRO</td>\n",
       "      <td>1</td>\n",
       "      <td>0</td>\n",
       "      <td>0</td>\n",
       "      <td>0</td>\n",
       "      <td>0</td>\n",
       "      <td>1</td>\n",
       "      <td>No</td>\n",
       "      <td>0</td>\n",
       "    </tr>\n",
       "    <tr>\n",
       "      <th>104948</th>\n",
       "      <td>7.816970e+13</td>\n",
       "      <td>5763550</td>\n",
       "      <td>M</td>\n",
       "      <td>2016-06-02T09:06:17Z</td>\n",
       "      <td>2016-06-02T00:00:00Z</td>\n",
       "      <td>40</td>\n",
       "      <td>SANTO ANDRÉ</td>\n",
       "      <td>0</td>\n",
       "      <td>0</td>\n",
       "      <td>0</td>\n",
       "      <td>0</td>\n",
       "      <td>0</td>\n",
       "      <td>0</td>\n",
       "      <td>No</td>\n",
       "      <td>0</td>\n",
       "    </tr>\n",
       "    <tr>\n",
       "      <th>8235</th>\n",
       "      <td>8.767623e+12</td>\n",
       "      <td>5683374</td>\n",
       "      <td>F</td>\n",
       "      <td>2016-05-11T07:28:10Z</td>\n",
       "      <td>2016-05-13T00:00:00Z</td>\n",
       "      <td>23</td>\n",
       "      <td>JARDIM DA PENHA</td>\n",
       "      <td>0</td>\n",
       "      <td>0</td>\n",
       "      <td>0</td>\n",
       "      <td>0</td>\n",
       "      <td>0</td>\n",
       "      <td>0</td>\n",
       "      <td>No</td>\n",
       "      <td>0</td>\n",
       "    </tr>\n",
       "    <tr>\n",
       "      <th>100059</th>\n",
       "      <td>6.257739e+13</td>\n",
       "      <td>5755652</td>\n",
       "      <td>M</td>\n",
       "      <td>2016-06-01T07:33:59Z</td>\n",
       "      <td>2016-06-06T00:00:00Z</td>\n",
       "      <td>37</td>\n",
       "      <td>RESISTÊNCIA</td>\n",
       "      <td>0</td>\n",
       "      <td>0</td>\n",
       "      <td>0</td>\n",
       "      <td>0</td>\n",
       "      <td>0</td>\n",
       "      <td>0</td>\n",
       "      <td>No</td>\n",
       "      <td>0</td>\n",
       "    </tr>\n",
       "  </tbody>\n",
       "</table>\n",
       "</div>"
      ],
      "text/plain": [
       "           PatientId  AppointmentID Gender          ScheduledDay  \\\n",
       "58518   3.429756e+11        5606945      M  2016-04-20T10:53:51Z   \n",
       "71031   2.654993e+12        5412231      F  2016-03-01T08:25:52Z   \n",
       "104948  7.816970e+13        5763550      M  2016-06-02T09:06:17Z   \n",
       "8235    8.767623e+12        5683374      F  2016-05-11T07:28:10Z   \n",
       "100059  6.257739e+13        5755652      M  2016-06-01T07:33:59Z   \n",
       "\n",
       "              AppointmentDay  Age    Neighbourhood  Scholarship  Hipertension  \\\n",
       "58518   2016-05-19T00:00:00Z   17    SÃO CRISTÓVÃO            0             0   \n",
       "71031   2016-05-06T00:00:00Z   18           CENTRO            1             0   \n",
       "104948  2016-06-02T00:00:00Z   40      SANTO ANDRÉ            0             0   \n",
       "8235    2016-05-13T00:00:00Z   23  JARDIM DA PENHA            0             0   \n",
       "100059  2016-06-06T00:00:00Z   37      RESISTÊNCIA            0             0   \n",
       "\n",
       "        Diabetes  Alcoholism  Handcap  SMS_received No-show  OUTPUT_LABEL  \n",
       "58518          0           0        0             0     Yes             1  \n",
       "71031          0           0        0             1      No             0  \n",
       "104948         0           0        0             0      No             0  \n",
       "8235           0           0        0             0      No             0  \n",
       "100059         0           0        0             0      No             0  "
      ]
     },
     "execution_count": 12,
     "metadata": {},
     "output_type": "execute_result"
    }
   ],
   "source": [
    "df['OUTPUT_LABEL'] = (df['No-show'] == 'Yes').astype('int')\n",
    "df.sample(5)"
   ]
  },
  {
   "cell_type": "markdown",
   "id": "fee4c01c-b106-47dd-95c3-a4232e774a9a",
   "metadata": {},
   "source": [
    "#### We can check the prevalence of our OUTPUT_LABEL:"
   ]
  },
  {
   "cell_type": "code",
   "execution_count": 13,
   "id": "301b9e11-f87a-4894-8811-9829ca97ab11",
   "metadata": {},
   "outputs": [],
   "source": [
    "def calc_prevalence(y):\n",
    "    return (sum(y)/len(y))"
   ]
  },
  {
   "cell_type": "code",
   "execution_count": 14,
   "id": "9a3c65d0-a9ed-4fa5-905a-e83e56d38021",
   "metadata": {},
   "outputs": [
    {
     "data": {
      "text/plain": [
       "0.20193255946510807"
      ]
     },
     "execution_count": 14,
     "metadata": {},
     "output_type": "execute_result"
    }
   ],
   "source": [
    "calc_prevalence(df.OUTPUT_LABEL.values)"
   ]
  },
  {
   "cell_type": "markdown",
   "id": "ec354bc4-f92e-41b6-82d7-f42784c00f77",
   "metadata": {},
   "source": [
    "#### which means that 1 in 5 patients will miss their scheduled appointment."
   ]
  },
  {
   "cell_type": "code",
   "execution_count": 15,
   "id": "50246b32-6734-44d6-bbe0-a3a98df99a3a",
   "metadata": {},
   "outputs": [
    {
     "data": {
      "text/plain": [
       "0    2016-04-29T00:00:00Z\n",
       "1    2016-04-29T00:00:00Z\n",
       "2    2016-04-29T00:00:00Z\n",
       "3    2016-04-29T00:00:00Z\n",
       "4    2016-04-29T00:00:00Z\n",
       "Name: AppointmentDay, dtype: object"
      ]
     },
     "execution_count": 15,
     "metadata": {},
     "output_type": "execute_result"
    }
   ],
   "source": [
    "df.AppointmentDay.head()"
   ]
  },
  {
   "cell_type": "code",
   "execution_count": 16,
   "id": "b14f3847-4b5b-4172-a51d-3dee428149b2",
   "metadata": {},
   "outputs": [
    {
     "data": {
      "text/plain": [
       "0    2016-04-29T18:38:08Z\n",
       "1    2016-04-29T16:08:27Z\n",
       "2    2016-04-29T16:19:04Z\n",
       "3    2016-04-29T17:29:31Z\n",
       "4    2016-04-29T16:07:23Z\n",
       "Name: ScheduledDay, dtype: object"
      ]
     },
     "execution_count": 16,
     "metadata": {},
     "output_type": "execute_result"
    }
   ],
   "source": [
    "df.ScheduledDay.head()"
   ]
  },
  {
   "cell_type": "markdown",
   "id": "f0f6eea1-68b1-4c33-bfdf-ba46ca9a5adc",
   "metadata": {},
   "source": [
    "#### The dtype for both columns is object which means pandas currently views these values as strings\n",
    "#### we will convert it into datetime format"
   ]
  },
  {
   "cell_type": "code",
   "execution_count": 18,
   "id": "418ae27a-f89d-4afe-9824-33d4ddeed946",
   "metadata": {},
   "outputs": [],
   "source": [
    "df[\"ScheduledDay\"] = pd.to_datetime(df[\"ScheduledDay\"], \n",
    " format = \"%Y-%m-%dT%H:%M:%SZ\", \n",
    " errors = \"coerce\")\n",
    "\n",
    "\n",
    "df[\"AppointmentDay\"] = pd.to_datetime(df[\"AppointmentDay\"], \n",
    " format = \"%Y-%m-%dT%H:%M:%SZ\", \n",
    " errors = \"coerce\")"
   ]
  },
  {
   "cell_type": "code",
   "execution_count": 21,
   "id": "792b0791-9474-4cb8-9e05-3a32b8e61854",
   "metadata": {},
   "outputs": [],
   "source": [
    "assert df.ScheduledDay.isnull().sum() == 0, \"missing ScheduledDay dates\"\n",
    "assert df.AppointmentDay.isnull().sum() == 0, \"missing AppointmentDay dates\""
   ]
  },
  {
   "cell_type": "code",
   "execution_count": 22,
   "id": "493971cc-5deb-4f20-b293-de461f603bdc",
   "metadata": {},
   "outputs": [
    {
     "data": {
      "text/plain": [
       "0   2016-04-29 18:38:08\n",
       "1   2016-04-29 16:08:27\n",
       "2   2016-04-29 16:19:04\n",
       "3   2016-04-29 17:29:31\n",
       "4   2016-04-29 16:07:23\n",
       "Name: ScheduledDay, dtype: datetime64[ns]"
      ]
     },
     "execution_count": 22,
     "metadata": {},
     "output_type": "execute_result"
    }
   ],
   "source": [
    "df.ScheduledDay.head()"
   ]
  },
  {
   "cell_type": "code",
   "execution_count": 24,
   "id": "34860e07-50a2-47cb-b2c3-636189f2e6df",
   "metadata": {},
   "outputs": [
    {
     "data": {
      "text/plain": [
       "38568"
      ]
     },
     "execution_count": 24,
     "metadata": {},
     "output_type": "execute_result"
    }
   ],
   "source": [
    "(df['ScheduledDay'] > df['AppointmentDay']).sum()"
   ]
  },
  {
   "cell_type": "markdown",
   "id": "172d1167-30ed-478b-81ee-f58880b00442",
   "metadata": {},
   "source": [
    "#### currently there are ~40k appointments that were scheduled after the appointment datetime"
   ]
  },
  {
   "cell_type": "markdown",
   "id": "119a7727-aae1-4b40-bd95-9ab9ecfa2b4a",
   "metadata": {},
   "source": [
    "#### This may be due to the fact that all the appointment times were set at the earliest time (00:00:00) whereas the times are included in ScheduledDay. To adjust for this, lets just shift all the appointment times to the end of the day"
   ]
  },
  {
   "cell_type": "code",
   "execution_count": 27,
   "id": "95e494c0-685d-48cf-a9b4-3e94b5b10117",
   "metadata": {},
   "outputs": [
    {
     "data": {
      "text/plain": [
       "1"
      ]
     },
     "execution_count": 27,
     "metadata": {},
     "output_type": "execute_result"
    }
   ],
   "source": [
    "df[\"AppointmentDay\"] = df[\"AppointmentDay\"] + pd.Timedelta(\"1d\") - pd.Timedelta(\"1s\")\n",
    "(df['ScheduledDay'] > df['AppointmentDay']).sum()"
   ]
  },
  {
   "cell_type": "markdown",
   "id": "4d4a1912-3c76-44b2-bc15-fb4e153f9a7b",
   "metadata": {},
   "source": [
    "##### With this change there is only 1 rows where scheduledDay time is after appointmentDay. Let’s just drop those rows"
   ]
  },
  {
   "cell_type": "code",
   "execution_count": 28,
   "id": "c97e2f01-c8b5-47b1-bc10-bb6774d50b34",
   "metadata": {},
   "outputs": [
    {
     "data": {
      "text/html": [
       "<div>\n",
       "<style scoped>\n",
       "    .dataframe tbody tr th:only-of-type {\n",
       "        vertical-align: middle;\n",
       "    }\n",
       "\n",
       "    .dataframe tbody tr th {\n",
       "        vertical-align: top;\n",
       "    }\n",
       "\n",
       "    .dataframe thead th {\n",
       "        text-align: right;\n",
       "    }\n",
       "</style>\n",
       "<table border=\"1\" class=\"dataframe\">\n",
       "  <thead>\n",
       "    <tr style=\"text-align: right;\">\n",
       "      <th></th>\n",
       "      <th>PatientId</th>\n",
       "      <th>AppointmentID</th>\n",
       "      <th>Gender</th>\n",
       "      <th>ScheduledDay</th>\n",
       "      <th>AppointmentDay</th>\n",
       "      <th>Age</th>\n",
       "      <th>Neighbourhood</th>\n",
       "      <th>Scholarship</th>\n",
       "      <th>Hipertension</th>\n",
       "      <th>Diabetes</th>\n",
       "      <th>Alcoholism</th>\n",
       "      <th>Handcap</th>\n",
       "      <th>SMS_received</th>\n",
       "      <th>No-show</th>\n",
       "      <th>OUTPUT_LABEL</th>\n",
       "    </tr>\n",
       "  </thead>\n",
       "  <tbody>\n",
       "    <tr>\n",
       "      <th>32703</th>\n",
       "      <td>1.171573e+13</td>\n",
       "      <td>5615194</td>\n",
       "      <td>F</td>\n",
       "      <td>2016-04-25 11:50:23</td>\n",
       "      <td>2016-05-11 23:59:58</td>\n",
       "      <td>21</td>\n",
       "      <td>PRAIA DO SUÁ</td>\n",
       "      <td>0</td>\n",
       "      <td>0</td>\n",
       "      <td>0</td>\n",
       "      <td>0</td>\n",
       "      <td>0</td>\n",
       "      <td>1</td>\n",
       "      <td>Yes</td>\n",
       "      <td>1</td>\n",
       "    </tr>\n",
       "    <tr>\n",
       "      <th>87669</th>\n",
       "      <td>2.114432e+14</td>\n",
       "      <td>5777272</td>\n",
       "      <td>F</td>\n",
       "      <td>2016-06-06 13:29:47</td>\n",
       "      <td>2016-06-07 23:59:58</td>\n",
       "      <td>48</td>\n",
       "      <td>JOANA D´ARC</td>\n",
       "      <td>0</td>\n",
       "      <td>0</td>\n",
       "      <td>1</td>\n",
       "      <td>0</td>\n",
       "      <td>0</td>\n",
       "      <td>0</td>\n",
       "      <td>No</td>\n",
       "      <td>0</td>\n",
       "    </tr>\n",
       "    <tr>\n",
       "      <th>100873</th>\n",
       "      <td>3.414495e+13</td>\n",
       "      <td>5755250</td>\n",
       "      <td>F</td>\n",
       "      <td>2016-06-01 07:14:06</td>\n",
       "      <td>2016-06-04 23:59:58</td>\n",
       "      <td>50</td>\n",
       "      <td>JARDIM CAMBURI</td>\n",
       "      <td>0</td>\n",
       "      <td>0</td>\n",
       "      <td>0</td>\n",
       "      <td>0</td>\n",
       "      <td>0</td>\n",
       "      <td>0</td>\n",
       "      <td>No</td>\n",
       "      <td>0</td>\n",
       "    </tr>\n",
       "    <tr>\n",
       "      <th>66990</th>\n",
       "      <td>4.572634e+11</td>\n",
       "      <td>5632800</td>\n",
       "      <td>M</td>\n",
       "      <td>2016-04-28 08:26:33</td>\n",
       "      <td>2016-05-07 23:59:58</td>\n",
       "      <td>61</td>\n",
       "      <td>JARDIM CAMBURI</td>\n",
       "      <td>0</td>\n",
       "      <td>0</td>\n",
       "      <td>0</td>\n",
       "      <td>0</td>\n",
       "      <td>0</td>\n",
       "      <td>0</td>\n",
       "      <td>No</td>\n",
       "      <td>0</td>\n",
       "    </tr>\n",
       "    <tr>\n",
       "      <th>17704</th>\n",
       "      <td>9.924258e+12</td>\n",
       "      <td>5738512</td>\n",
       "      <td>F</td>\n",
       "      <td>2016-05-25 11:06:48</td>\n",
       "      <td>2016-06-01 23:59:58</td>\n",
       "      <td>38</td>\n",
       "      <td>CARATOÍRA</td>\n",
       "      <td>0</td>\n",
       "      <td>0</td>\n",
       "      <td>0</td>\n",
       "      <td>0</td>\n",
       "      <td>0</td>\n",
       "      <td>0</td>\n",
       "      <td>No</td>\n",
       "      <td>0</td>\n",
       "    </tr>\n",
       "    <tr>\n",
       "      <th>69349</th>\n",
       "      <td>1.161425e+14</td>\n",
       "      <td>5643840</td>\n",
       "      <td>F</td>\n",
       "      <td>2016-05-02 07:57:33</td>\n",
       "      <td>2016-05-13 23:59:58</td>\n",
       "      <td>18</td>\n",
       "      <td>SÃO CRISTÓVÃO</td>\n",
       "      <td>0</td>\n",
       "      <td>0</td>\n",
       "      <td>0</td>\n",
       "      <td>0</td>\n",
       "      <td>0</td>\n",
       "      <td>1</td>\n",
       "      <td>No</td>\n",
       "      <td>0</td>\n",
       "    </tr>\n",
       "    <tr>\n",
       "      <th>13901</th>\n",
       "      <td>4.736778e+13</td>\n",
       "      <td>5735369</td>\n",
       "      <td>F</td>\n",
       "      <td>2016-05-25 07:05:28</td>\n",
       "      <td>2016-06-01 23:59:58</td>\n",
       "      <td>1</td>\n",
       "      <td>CRUZAMENTO</td>\n",
       "      <td>0</td>\n",
       "      <td>0</td>\n",
       "      <td>0</td>\n",
       "      <td>0</td>\n",
       "      <td>0</td>\n",
       "      <td>1</td>\n",
       "      <td>Yes</td>\n",
       "      <td>1</td>\n",
       "    </tr>\n",
       "  </tbody>\n",
       "</table>\n",
       "</div>"
      ],
      "text/plain": [
       "           PatientId  AppointmentID Gender        ScheduledDay  \\\n",
       "32703   1.171573e+13        5615194      F 2016-04-25 11:50:23   \n",
       "87669   2.114432e+14        5777272      F 2016-06-06 13:29:47   \n",
       "100873  3.414495e+13        5755250      F 2016-06-01 07:14:06   \n",
       "66990   4.572634e+11        5632800      M 2016-04-28 08:26:33   \n",
       "17704   9.924258e+12        5738512      F 2016-05-25 11:06:48   \n",
       "69349   1.161425e+14        5643840      F 2016-05-02 07:57:33   \n",
       "13901   4.736778e+13        5735369      F 2016-05-25 07:05:28   \n",
       "\n",
       "            AppointmentDay  Age   Neighbourhood  Scholarship  Hipertension  \\\n",
       "32703  2016-05-11 23:59:58   21    PRAIA DO SUÁ            0             0   \n",
       "87669  2016-06-07 23:59:58   48     JOANA D´ARC            0             0   \n",
       "100873 2016-06-04 23:59:58   50  JARDIM CAMBURI            0             0   \n",
       "66990  2016-05-07 23:59:58   61  JARDIM CAMBURI            0             0   \n",
       "17704  2016-06-01 23:59:58   38       CARATOÍRA            0             0   \n",
       "69349  2016-05-13 23:59:58   18   SÃO CRISTÓVÃO            0             0   \n",
       "13901  2016-06-01 23:59:58    1      CRUZAMENTO            0             0   \n",
       "\n",
       "        Diabetes  Alcoholism  Handcap  SMS_received No-show  OUTPUT_LABEL  \n",
       "32703          0           0        0             1     Yes             1  \n",
       "87669          1           0        0             0      No             0  \n",
       "100873         0           0        0             0      No             0  \n",
       "66990          0           0        0             0      No             0  \n",
       "17704          0           0        0             0      No             0  \n",
       "69349          0           0        0             1      No             0  \n",
       "13901          0           0        0             1     Yes             1  "
      ]
     },
     "execution_count": 28,
     "metadata": {},
     "output_type": "execute_result"
    }
   ],
   "source": [
    "df = df.loc[(df['ScheduledDay'] <= df['AppointmentDay'])].copy()\n",
    "df.sample(7)"
   ]
  },
  {
   "cell_type": "markdown",
   "id": "f0d0a406-b446-43eb-801e-2d15c2e7e820",
   "metadata": {},
   "source": [
    "#### We can break apart the date and get the year, month, week of year, day of month, hour, minute, second, etc. You can also get the day of the week (Monday = 0, Sunday = 6)"
   ]
  },
  {
   "cell_type": "code",
   "execution_count": 29,
   "id": "f691f38a-2b6d-4356-8d38-1de1756adcc3",
   "metadata": {},
   "outputs": [
    {
     "name": "stderr",
     "output_type": "stream",
     "text": [
      "<ipython-input-29-7f5130ff623e>:3: FutureWarning: Series.dt.weekofyear and Series.dt.week have been deprecated.  Please use Series.dt.isocalendar().week instead.\n",
      "  df[\"ScheduledDay_week\"] = df[\"ScheduledDay\"].dt.week\n",
      "<ipython-input-29-7f5130ff623e>:10: FutureWarning: Series.dt.weekofyear and Series.dt.week have been deprecated.  Please use Series.dt.isocalendar().week instead.\n",
      "  df[\"AppointmentDay_week\"] = df[\"AppointmentDay\"].dt.week\n"
     ]
    }
   ],
   "source": [
    "df[\"ScheduledDay_year\"] = df[\"ScheduledDay\"].dt.year\n",
    "df[\"ScheduledDay_month\"] = df[\"ScheduledDay\"].dt.month\n",
    "df[\"ScheduledDay_week\"] = df[\"ScheduledDay\"].dt.week\n",
    "df[\"ScheduledDay_day\"] = df[\"ScheduledDay\"].dt.day\n",
    "df[\"ScheduledDay_hour\"] = df[\"ScheduledDay\"].dt.hour\n",
    "df[\"ScheduledDay_minute\"] = df[\"ScheduledDay\"].dt.minute\n",
    "df[\"ScheduledDay_dayofweek\"] = df[\"ScheduledDay\"].dt.dayofweek\n",
    "df[\"AppointmentDay_year\"] = df[\"AppointmentDay\"].dt.year\n",
    "df[\"AppointmentDay_month\"] = df[\"AppointmentDay\"].dt.month\n",
    "df[\"AppointmentDay_week\"] = df[\"AppointmentDay\"].dt.week\n",
    "df[\"AppointmentDay_day\"] = df[\"AppointmentDay\"].dt.day\n",
    "df[\"AppointmentDay_hour\"] = df[\"AppointmentDay\"].dt.hour\n",
    "df[\"AppointmentDay_minute\"] = df[\"AppointmentDay\"].dt.minute\n",
    "df[\"AppointmentDay_dayofweek\"] = df[\"AppointmentDay\"].dt.dayofweek"
   ]
  },
  {
   "cell_type": "code",
   "execution_count": 31,
   "id": "c11eabfb-0393-4214-ba5a-1544a4e53026",
   "metadata": {},
   "outputs": [
    {
     "data": {
      "text/plain": [
       "AppointmentDay_year\n",
       "2016    110526\n",
       "dtype: int64"
      ]
     },
     "execution_count": 31,
     "metadata": {},
     "output_type": "execute_result"
    }
   ],
   "source": [
    "df.groupby('AppointmentDay_year').size()"
   ]
  },
  {
   "cell_type": "code",
   "execution_count": 32,
   "id": "d3dded93-6d5d-4189-846b-15e72a6b5e6c",
   "metadata": {},
   "outputs": [
    {
     "data": {
      "text/plain": [
       "AppointmentDay_month\n",
       "4     3235\n",
       "5    76561\n",
       "6    30730\n",
       "dtype: int64"
      ]
     },
     "execution_count": 32,
     "metadata": {},
     "output_type": "execute_result"
    }
   ],
   "source": [
    "df.groupby('AppointmentDay_month').size()"
   ]
  },
  {
   "cell_type": "code",
   "execution_count": 33,
   "id": "af98c9c6-9381-4b17-b1bd-cf7088276296",
   "metadata": {},
   "outputs": [
    {
     "data": {
      "text/plain": [
       "AppointmentDay_week\n",
       "17     3235\n",
       "18    20951\n",
       "19    21722\n",
       "20    21456\n",
       "21     7918\n",
       "22    21657\n",
       "23    13587\n",
       "dtype: int64"
      ]
     },
     "execution_count": 33,
     "metadata": {},
     "output_type": "execute_result"
    }
   ],
   "source": [
    "df.groupby('AppointmentDay_week').size()"
   ]
  },
  {
   "cell_type": "code",
   "execution_count": 35,
   "id": "c05ff69f-b67b-4d93-b8a5-5a2c94ff62d0",
   "metadata": {},
   "outputs": [
    {
     "data": {
      "text/plain": [
       "AppointmentDay_week\n",
       "17    0.195672\n",
       "18    0.203618\n",
       "19    0.213931\n",
       "20    0.217422\n",
       "21    0.198282\n",
       "22    0.188115\n",
       "23    0.181276\n",
       "dtype: float64"
      ]
     },
     "execution_count": 35,
     "metadata": {},
     "output_type": "execute_result"
    }
   ],
   "source": [
    "df.groupby('AppointmentDay_week').apply(lambda x: calc_prevalence(x.OUTPUT_LABEL.values))"
   ]
  },
  {
   "cell_type": "markdown",
   "id": "f87fce75-b0e7-4d48-b33a-46c594d52021",
   "metadata": {},
   "source": [
    "#### Looks like more people skip their appointments on Friday and Saturday, although the effect is modest"
   ]
  },
  {
   "cell_type": "markdown",
   "id": "bfa5917b-c301-4502-b5f8-e8ab0a063a5f",
   "metadata": {},
   "source": [
    "#### Let’s create a new feature that is the number of days between the scheduled date and the appointment date."
   ]
  },
  {
   "cell_type": "code",
   "execution_count": 36,
   "id": "4c724a09-3cb1-4eba-9bf3-222071ddf28f",
   "metadata": {},
   "outputs": [],
   "source": [
    "df[\"delta_days\"] = (df[\"AppointmentDay\"]-df[\"ScheduledDay\"]).dt.total_seconds()/(60*60*24)"
   ]
  },
  {
   "cell_type": "code",
   "execution_count": 41,
   "id": "035638ae-bca9-4b89-85bb-30ca7d293ba7",
   "metadata": {},
   "outputs": [
    {
     "ename": "AttributeError",
     "evalue": "'Rectangle' object has no property 'normed'",
     "output_type": "error",
     "traceback": [
      "\u001b[0;31m---------------------------------------------------------------------------\u001b[0m",
      "\u001b[0;31mAttributeError\u001b[0m                            Traceback (most recent call last)",
      "\u001b[0;32m<ipython-input-41-55fc78cb5cab>\u001b[0m in \u001b[0;36m<module>\u001b[0;34m\u001b[0m\n\u001b[0;32m----> 1\u001b[0;31m plt.hist(df.loc[df.OUTPUT_LABEL == 1,\"delta_days\"], \n\u001b[0m\u001b[1;32m      2\u001b[0m  label = \"Missed\",bins = range(0,60,1), normed = True)\n\u001b[1;32m      3\u001b[0m plt.hist(df.loc[df.OUTPUT_LABEL == 0,\"delta_days\"], \n\u001b[1;32m      4\u001b[0m  label = \"Not Missed\",bins = range(0,60,1), normed = True,alpha =0.5)\n\u001b[1;32m      5\u001b[0m \u001b[0mplt\u001b[0m\u001b[0;34m.\u001b[0m\u001b[0mlegend\u001b[0m\u001b[0;34m(\u001b[0m\u001b[0;34m)\u001b[0m\u001b[0;34m\u001b[0m\u001b[0;34m\u001b[0m\u001b[0m\n",
      "\u001b[0;32m~/anaconda3/lib/python3.8/site-packages/matplotlib/pyplot.py\u001b[0m in \u001b[0;36mhist\u001b[0;34m(x, bins, range, density, weights, cumulative, bottom, histtype, align, orientation, rwidth, log, color, label, stacked, data, **kwargs)\u001b[0m\n\u001b[1;32m   2683\u001b[0m         \u001b[0morientation\u001b[0m\u001b[0;34m=\u001b[0m\u001b[0;34m'vertical'\u001b[0m\u001b[0;34m,\u001b[0m \u001b[0mrwidth\u001b[0m\u001b[0;34m=\u001b[0m\u001b[0;32mNone\u001b[0m\u001b[0;34m,\u001b[0m \u001b[0mlog\u001b[0m\u001b[0;34m=\u001b[0m\u001b[0;32mFalse\u001b[0m\u001b[0;34m,\u001b[0m \u001b[0mcolor\u001b[0m\u001b[0;34m=\u001b[0m\u001b[0;32mNone\u001b[0m\u001b[0;34m,\u001b[0m\u001b[0;34m\u001b[0m\u001b[0;34m\u001b[0m\u001b[0m\n\u001b[1;32m   2684\u001b[0m         label=None, stacked=False, *, data=None, **kwargs):\n\u001b[0;32m-> 2685\u001b[0;31m     return gca().hist(\n\u001b[0m\u001b[1;32m   2686\u001b[0m         \u001b[0mx\u001b[0m\u001b[0;34m,\u001b[0m \u001b[0mbins\u001b[0m\u001b[0;34m=\u001b[0m\u001b[0mbins\u001b[0m\u001b[0;34m,\u001b[0m \u001b[0mrange\u001b[0m\u001b[0;34m=\u001b[0m\u001b[0mrange\u001b[0m\u001b[0;34m,\u001b[0m \u001b[0mdensity\u001b[0m\u001b[0;34m=\u001b[0m\u001b[0mdensity\u001b[0m\u001b[0;34m,\u001b[0m \u001b[0mweights\u001b[0m\u001b[0;34m=\u001b[0m\u001b[0mweights\u001b[0m\u001b[0;34m,\u001b[0m\u001b[0;34m\u001b[0m\u001b[0;34m\u001b[0m\u001b[0m\n\u001b[1;32m   2687\u001b[0m         \u001b[0mcumulative\u001b[0m\u001b[0;34m=\u001b[0m\u001b[0mcumulative\u001b[0m\u001b[0;34m,\u001b[0m \u001b[0mbottom\u001b[0m\u001b[0;34m=\u001b[0m\u001b[0mbottom\u001b[0m\u001b[0;34m,\u001b[0m \u001b[0mhisttype\u001b[0m\u001b[0;34m=\u001b[0m\u001b[0mhisttype\u001b[0m\u001b[0;34m,\u001b[0m\u001b[0;34m\u001b[0m\u001b[0;34m\u001b[0m\u001b[0m\n",
      "\u001b[0;32m~/anaconda3/lib/python3.8/site-packages/matplotlib/__init__.py\u001b[0m in \u001b[0;36minner\u001b[0;34m(ax, data, *args, **kwargs)\u001b[0m\n\u001b[1;32m   1445\u001b[0m     \u001b[0;32mdef\u001b[0m \u001b[0minner\u001b[0m\u001b[0;34m(\u001b[0m\u001b[0max\u001b[0m\u001b[0;34m,\u001b[0m \u001b[0;34m*\u001b[0m\u001b[0margs\u001b[0m\u001b[0;34m,\u001b[0m \u001b[0mdata\u001b[0m\u001b[0;34m=\u001b[0m\u001b[0;32mNone\u001b[0m\u001b[0;34m,\u001b[0m \u001b[0;34m**\u001b[0m\u001b[0mkwargs\u001b[0m\u001b[0;34m)\u001b[0m\u001b[0;34m:\u001b[0m\u001b[0;34m\u001b[0m\u001b[0;34m\u001b[0m\u001b[0m\n\u001b[1;32m   1446\u001b[0m         \u001b[0;32mif\u001b[0m \u001b[0mdata\u001b[0m \u001b[0;32mis\u001b[0m \u001b[0;32mNone\u001b[0m\u001b[0;34m:\u001b[0m\u001b[0;34m\u001b[0m\u001b[0;34m\u001b[0m\u001b[0m\n\u001b[0;32m-> 1447\u001b[0;31m             \u001b[0;32mreturn\u001b[0m \u001b[0mfunc\u001b[0m\u001b[0;34m(\u001b[0m\u001b[0max\u001b[0m\u001b[0;34m,\u001b[0m \u001b[0;34m*\u001b[0m\u001b[0mmap\u001b[0m\u001b[0;34m(\u001b[0m\u001b[0msanitize_sequence\u001b[0m\u001b[0;34m,\u001b[0m \u001b[0margs\u001b[0m\u001b[0;34m)\u001b[0m\u001b[0;34m,\u001b[0m \u001b[0;34m**\u001b[0m\u001b[0mkwargs\u001b[0m\u001b[0;34m)\u001b[0m\u001b[0;34m\u001b[0m\u001b[0;34m\u001b[0m\u001b[0m\n\u001b[0m\u001b[1;32m   1448\u001b[0m \u001b[0;34m\u001b[0m\u001b[0m\n\u001b[1;32m   1449\u001b[0m         \u001b[0mbound\u001b[0m \u001b[0;34m=\u001b[0m \u001b[0mnew_sig\u001b[0m\u001b[0;34m.\u001b[0m\u001b[0mbind\u001b[0m\u001b[0;34m(\u001b[0m\u001b[0max\u001b[0m\u001b[0;34m,\u001b[0m \u001b[0;34m*\u001b[0m\u001b[0margs\u001b[0m\u001b[0;34m,\u001b[0m \u001b[0;34m**\u001b[0m\u001b[0mkwargs\u001b[0m\u001b[0;34m)\u001b[0m\u001b[0;34m\u001b[0m\u001b[0;34m\u001b[0m\u001b[0m\n",
      "\u001b[0;32m~/anaconda3/lib/python3.8/site-packages/matplotlib/axes/_axes.py\u001b[0m in \u001b[0;36mhist\u001b[0;34m(self, x, bins, range, density, weights, cumulative, bottom, histtype, align, orientation, rwidth, log, color, label, stacked, **kwargs)\u001b[0m\n\u001b[1;32m   6813\u001b[0m             \u001b[0;32mif\u001b[0m \u001b[0mpatch\u001b[0m\u001b[0;34m:\u001b[0m\u001b[0;34m\u001b[0m\u001b[0;34m\u001b[0m\u001b[0m\n\u001b[1;32m   6814\u001b[0m                 \u001b[0mp\u001b[0m \u001b[0;34m=\u001b[0m \u001b[0mpatch\u001b[0m\u001b[0;34m[\u001b[0m\u001b[0;36m0\u001b[0m\u001b[0;34m]\u001b[0m\u001b[0;34m\u001b[0m\u001b[0;34m\u001b[0m\u001b[0m\n\u001b[0;32m-> 6815\u001b[0;31m                 \u001b[0mp\u001b[0m\u001b[0;34m.\u001b[0m\u001b[0mupdate\u001b[0m\u001b[0;34m(\u001b[0m\u001b[0mkwargs\u001b[0m\u001b[0;34m)\u001b[0m\u001b[0;34m\u001b[0m\u001b[0;34m\u001b[0m\u001b[0m\n\u001b[0m\u001b[1;32m   6816\u001b[0m                 \u001b[0;32mif\u001b[0m \u001b[0mlbl\u001b[0m \u001b[0;32mis\u001b[0m \u001b[0;32mnot\u001b[0m \u001b[0;32mNone\u001b[0m\u001b[0;34m:\u001b[0m\u001b[0;34m\u001b[0m\u001b[0;34m\u001b[0m\u001b[0m\n\u001b[1;32m   6817\u001b[0m                     \u001b[0mp\u001b[0m\u001b[0;34m.\u001b[0m\u001b[0mset_label\u001b[0m\u001b[0;34m(\u001b[0m\u001b[0mlbl\u001b[0m\u001b[0;34m)\u001b[0m\u001b[0;34m\u001b[0m\u001b[0;34m\u001b[0m\u001b[0m\n",
      "\u001b[0;32m~/anaconda3/lib/python3.8/site-packages/matplotlib/artist.py\u001b[0m in \u001b[0;36mupdate\u001b[0;34m(self, props)\u001b[0m\n\u001b[1;32m    994\u001b[0m                     \u001b[0mfunc\u001b[0m \u001b[0;34m=\u001b[0m \u001b[0mgetattr\u001b[0m\u001b[0;34m(\u001b[0m\u001b[0mself\u001b[0m\u001b[0;34m,\u001b[0m \u001b[0;34mf\"set_{k}\"\u001b[0m\u001b[0;34m,\u001b[0m \u001b[0;32mNone\u001b[0m\u001b[0;34m)\u001b[0m\u001b[0;34m\u001b[0m\u001b[0;34m\u001b[0m\u001b[0m\n\u001b[1;32m    995\u001b[0m                     \u001b[0;32mif\u001b[0m \u001b[0;32mnot\u001b[0m \u001b[0mcallable\u001b[0m\u001b[0;34m(\u001b[0m\u001b[0mfunc\u001b[0m\u001b[0;34m)\u001b[0m\u001b[0;34m:\u001b[0m\u001b[0;34m\u001b[0m\u001b[0;34m\u001b[0m\u001b[0m\n\u001b[0;32m--> 996\u001b[0;31m                         raise AttributeError(f\"{type(self).__name__!r} object \"\n\u001b[0m\u001b[1;32m    997\u001b[0m                                              f\"has no property {k!r}\")\n\u001b[1;32m    998\u001b[0m                     \u001b[0mret\u001b[0m\u001b[0;34m.\u001b[0m\u001b[0mappend\u001b[0m\u001b[0;34m(\u001b[0m\u001b[0mfunc\u001b[0m\u001b[0;34m(\u001b[0m\u001b[0mv\u001b[0m\u001b[0;34m)\u001b[0m\u001b[0;34m)\u001b[0m\u001b[0;34m\u001b[0m\u001b[0;34m\u001b[0m\u001b[0m\n",
      "\u001b[0;31mAttributeError\u001b[0m: 'Rectangle' object has no property 'normed'"
     ]
    },
    {
     "data": {
      "image/png": "[encoded data removed]",
      "text/plain": [
       "<Figure size 432x288 with 1 Axes>"
      ]
     },
     "metadata": {
      "needs_background": "light"
     },
     "output_type": "display_data"
    }
   ],
   "source": [
    "plt.hist(df.loc[df.OUTPUT_LABEL == 1,\"delta_days\"], \n",
    " label = \"Missed\",bins = range(0,60,1), normed = True)\n",
    "plt.hist(df.loc[df.OUTPUT_LABEL == 0,\"delta_days\"], \n",
    " label = \"Not Missed\",bins = range(0,60,1), normed = True,alpha =0.5)\n",
    "plt.legend()\n",
    "plt.xlabel(\"days until appointment\")\n",
    "plt.ylabel(\"normed distribution\")\n",
    "plt.xlim(0,40)\n",
    "plt.show()"
   ]
  },
  {
   "cell_type": "markdown",
   "id": "b7fa7f42-274c-4b19-860c-f14c629b4a5b",
   "metadata": {},
   "source": [
    "## Split Samples\n",
    "#### We willl split into two datasets: train (70%) and validation (30%). It is important to shuffle your samples because you may have been given the data in order of dates"
   ]
  },
  {
   "cell_type": "code",
   "execution_count": 42,
   "id": "1d595c6c-a082-4464-8518-2405b85b68af",
   "metadata": {},
   "outputs": [],
   "source": [
    "# shuffle the samples\n",
    "df = df.sample(n = len(df), random_state = 42)\n",
    "df = df.reset_index(drop = True)\n",
    "df_valid = df.sample(frac = 0.3, random_state = 42)\n",
    "df_train = df.drop(df_valid.index)"
   ]
  },
  {
   "cell_type": "code",
   "execution_count": 44,
   "id": "6651b1ac-4760-4568-9d20-627cea7ccb2a",
   "metadata": {},
   "outputs": [
    {
     "name": "stdout",
     "output_type": "stream",
     "text": [
      "Valid prevalence(n = 33158):0.201\n",
      "Train prevalence(n = 77368):0.202\n"
     ]
    }
   ],
   "source": [
    "print(\"Valid prevalence(n = %d):%.3f\"%(len(df_valid),calc_prevalence(df_valid.OUTPUT_LABEL.values)))\n",
    "print(\"Train prevalence(n = %d):%.3f\"%(len(df_train), calc_prevalence(df_train.OUTPUT_LABEL.values)))"
   ]
  },
  {
   "cell_type": "markdown",
   "id": "3c5b82fd-948e-41f6-a934-38f46c1d60b4",
   "metadata": {},
   "source": [
    "#### We can check the prevalence is about 20% in each:"
   ]
  },
  {
   "cell_type": "code",
   "execution_count": 45,
   "id": "401becb8-732b-4caa-860f-a8f4a6086121",
   "metadata": {},
   "outputs": [],
   "source": [
    "col2use = [\"ScheduledDay_day\", \"ScheduledDay_hour\",\n",
    " \"ScheduledDay_minute\", \"ScheduledDay_dayofweek\", \n",
    " \"AppointmentDay_day\",\n",
    " \"AppointmentDay_dayofweek\", \"delta_days\"]"
   ]
  },
  {
   "cell_type": "code",
   "execution_count": 48,
   "id": "e38917b1-fc4a-4d7e-b9da-7ea1f330bd13",
   "metadata": {},
   "outputs": [
    {
     "name": "stdout",
     "output_type": "stream",
     "text": [
      "Training shapes: (77368, 7) (77368,)\n",
      "Validation shapes: (33158, 7) (33158,)\n"
     ]
    }
   ],
   "source": [
    "X_train = df_train[col2use].values\n",
    "X_valid = df_valid[col2use].values\n",
    "y_train = df_train[\"OUTPUT_LABEL\"].values\n",
    "y_valid = df_valid[\"OUTPUT_LABEL\"].values\n",
    "print(\"Training shapes:\",X_train.shape, y_train.shape)\n",
    "print(\"Validation shapes:\",X_valid.shape, y_valid.shape)"
   ]
  },
  {
   "cell_type": "code",
   "execution_count": null,
   "id": "b2797f2f-4b70-4c2f-9104-35c33855dd13",
   "metadata": {},
   "outputs": [],
   "source": []
  },
  {
   "cell_type": "markdown",
   "id": "8fcf2172-2e84-4dd4-a667-dd2c43e86b1a",
   "metadata": {},
   "source": [
    "## Train the model"
   ]
  },
  {
   "cell_type": "code",
   "execution_count": 56,
   "id": "acb58f6f-22f1-4af6-8bc2-59c575f34f72",
   "metadata": {},
   "outputs": [
    {
     "data": {
      "text/plain": [
       "RandomForestClassifier(max_depth=5, random_state=42)"
      ]
     },
     "execution_count": 56,
     "metadata": {},
     "output_type": "execute_result"
    }
   ],
   "source": [
    "from sklearn.ensemble import RandomForestClassifier\n",
    "rf=RandomForestClassifier(max_depth = 5, n_estimators=100, random_state = 42)\n",
    "rf.fit(X_train, y_train)"
   ]
  },
  {
   "cell_type": "code",
   "execution_count": null,
   "id": "877451ab-99d2-408b-be79-8c925f95ff4d",
   "metadata": {},
   "outputs": [],
   "source": []
  },
  {
   "cell_type": "code",
   "execution_count": 57,
   "id": "2cbe28c4-fb46-41ed-acc0-7ecf90c4ae15",
   "metadata": {},
   "outputs": [],
   "source": [
    "y_train_preds = rf.predict_proba(X_train)[:,1]\n",
    "y_valid_preds = rf.predict_proba(X_valid)[:,1]"
   ]
  },
  {
   "cell_type": "code",
   "execution_count": null,
   "id": "f484c537-71c6-4acf-826c-4b6b01745839",
   "metadata": {},
   "outputs": [],
   "source": []
  },
  {
   "cell_type": "markdown",
   "id": "19e132a1-d3d7-4221-88cf-b4adf4dc9c40",
   "metadata": {},
   "source": [
    "## Evaluate performance\n"
   ]
  },
  {
   "cell_type": "code",
   "execution_count": 58,
   "id": "cec35bfe-01ae-4a67-af36-1e4daae67825",
   "metadata": {},
   "outputs": [],
   "source": [
    "from sklearn.metrics import roc_auc_score, accuracy_score, precision_score, recall_score\n",
    "\n",
    "def calc_specificity(y_actual, y_pred, thresh):\n",
    " # calculates specificity\n",
    "    return sum((y_pred < thresh) & (y_actual == 0)) /sum(y_actual ==0)\n",
    "\n",
    "def print_report(y_actual, y_pred, thresh):\n",
    " \n",
    "    auc = roc_auc_score(y_actual, y_pred)\n",
    "    accuracy = accuracy_score(y_actual, (y_pred > thresh))\n",
    "    recall = recall_score(y_actual, (y_pred > thresh))\n",
    "    precision = precision_score(y_actual, (y_pred > thresh))\n",
    "    specificity = calc_specificity(y_actual, y_pred, thresh)\n",
    "    print(\"AUC:%.3f\"%auc)\n",
    "    print(\"accuracy:%.3f\"%accuracy)\n",
    "    print(\"recall:%.3f\"%recall)\n",
    "    print(\"precision:%.3f\"%precision)\n",
    "    print(\"specificity:%.3f\"%specificity)\n",
    "    print(\"prevalence:%.3f\"%calc_prevalence(y_actual))\n",
    "    print(\"  \")\n",
    "    return auc, accuracy, recall, precision, specificity\n",
    "\n"
   ]
  },
  {
   "cell_type": "code",
   "execution_count": 60,
   "id": "c8d3d5a1-46d9-4592-a945-b19062c0c041",
   "metadata": {},
   "outputs": [
    {
     "name": "stdout",
     "output_type": "stream",
     "text": [
      "Training\n",
      "AUC:0.721\n",
      "accuracy:0.523\n",
      "recall:0.918\n",
      "precision:0.287\n",
      "specificity:0.423\n",
      "prevalence:0.202\n",
      "  \n",
      "Validation\n",
      "AUC:0.707\n",
      "accuracy:0.516\n",
      "recall:0.915\n",
      "precision:0.283\n",
      "specificity:0.415\n",
      "prevalence:0.201\n",
      "  \n"
     ]
    },
    {
     "data": {
      "text/plain": [
       "(0.7065442504915527,\n",
       " 0.5158936003377768,\n",
       " 0.9147565543071161,\n",
       " 0.28282921858353793,\n",
       " 0.4153607974927312)"
      ]
     },
     "execution_count": 60,
     "metadata": {},
     "output_type": "execute_result"
    }
   ],
   "source": [
    "thresh = 0.201\n",
    "\n",
    "print(\"Training\")\n",
    "print_report(y_train,y_train_preds,thresh)\n",
    "\n",
    "print(\"Validation\")\n",
    "print_report(y_valid,y_valid_preds,thresh)\n"
   ]
  },
  {
   "cell_type": "code",
   "execution_count": 64,
   "id": "632116db-bc80-46e6-9d78-42f561abd55a",
   "metadata": {},
   "outputs": [
    {
     "data": {
      "image/png": "[encoded data removed]",
      "text/plain": [
       "<Figure size 432x288 with 1 Axes>"
      ]
     },
     "metadata": {
      "needs_background": "light"
     },
     "output_type": "display_data"
    }
   ],
   "source": [
    "from sklearn.metrics import roc_curve\n",
    "\n",
    "fpr_train, tpr_train, thresholds_train = roc_curve(y_train, y_train_preds)\n",
    "auc_train = roc_auc_score(y_train, y_train_preds)\n",
    "fpr_valid, tpr_valid, thresholds_valid = roc_curve(y_valid, y_valid_preds)\n",
    "auc_valid = roc_auc_score(y_valid, y_valid_preds)\n",
    "\n",
    "\n",
    "plt.plot(fpr_train, tpr_train, \"r-\",label =\"Train AUC:%.3f\"%auc_train)\n",
    "plt.plot(fpr_valid, tpr_valid, \"b-\",label =\"Valid AUC:%.3f\"%auc_valid)\n",
    "plt.plot([0,1],[0,1],\"k\")\n",
    "plt.xlabel(\"False Positive Rate\")\n",
    "plt.ylabel(\"True Positive Rate\")\n",
    "plt.legend()\n",
    "plt.show()"
   ]
  },
  {
   "cell_type": "code",
   "execution_count": null,
   "id": "8390bca7-4c52-4057-99a2-ead3a136966c",
   "metadata": {},
   "outputs": [],
   "source": []
  },
  {
   "cell_type": "code",
   "execution_count": null,
   "id": "88c4f64d-6af4-4181-a756-4e96435ba541",
   "metadata": {},
   "outputs": [],
   "source": []
  },
  {
   "cell_type": "markdown",
   "id": "cfa8fa64-5fb0-4367-888b-004c951f1714",
   "metadata": {},
   "source": [
    "##### We can investigate this a bit by looking at the top features\n"
   ]
  },
  {
   "cell_type": "code",
   "execution_count": 65,
   "id": "027938e5-e281-46a0-86cf-1eb8092fcb2c",
   "metadata": {},
   "outputs": [
    {
     "data": {
      "image/png": "[encoded data removed]",
      "text/plain": [
       "<Figure size 480x480 with 1 Axes>"
      ]
     },
     "metadata": {},
     "output_type": "display_data"
    }
   ],
   "source": [
    "feature_importances = pd.DataFrame(rf.feature_importances_,\n",
    " index = col2use,\n",
    " columns=[\"importance\"]).sort_values(\"importance\",\n",
    " ascending=False)\n",
    "num = min([50,len(col2use)])\n",
    "ylocs = np.arange(num)\n",
    "# get the feature importance for top num and sort in reverse order\n",
    "values_to_plot = feature_importances.iloc[:num].values.ravel()[::-1]\n",
    "feature_labels = list(feature_importances.iloc[:num].index)[::-1]\n",
    "plt.figure(num=None, figsize=(6, 6), dpi=80, facecolor=\"w\", edgecolor=\"k\");\n",
    "plt.barh(ylocs, values_to_plot, align = \"center\")\n",
    "plt.ylabel(\"Features\")\n",
    "plt.xlabel(\"Importance Score\")\n",
    "plt.title(\"Feature Importance Score — Random Forest\")\n",
    "plt.yticks(ylocs, feature_labels)\n",
    "plt.show()"
   ]
  },
  {
   "cell_type": "code",
   "execution_count": null,
   "id": "61a132e8-408d-48e9-bdd3-59d0b9a862fd",
   "metadata": {},
   "outputs": [],
   "source": []
  },
  {
   "cell_type": "code",
   "execution_count": null,
   "id": "96017980-4ed1-4922-a9a1-fdaebfa39691",
   "metadata": {},
   "outputs": [],
   "source": []
  }
 ],
 "metadata": {
  "kernelspec": {
   "display_name": "Python 3",
   "language": "python",
   "name": "python3"
  },
  "language_info": {
   "codemirror_mode": {
    "name": "ipython",
    "version": 3
   },
   "file_extension": ".py",
   "mimetype": "text/x-python",
   "name": "python",
   "nbconvert_exporter": "python",
   "pygments_lexer": "ipython3",
   "version": "3.8.5"
  }
 },
 "nbformat": 4,
 "nbformat_minor": 5
}
